{
 "cells": [
  {
   "cell_type": "markdown",
   "metadata": {},
   "source": [
    "Naive bayes dataset 2"
   ]
  },
  {
   "cell_type": "markdown",
   "metadata": {},
   "source": []
  },
  {
   "cell_type": "code",
   "execution_count": 34,
   "metadata": {},
   "outputs": [],
   "source": [
    "import numpy as np"
   ]
  },
  {
   "cell_type": "code",
   "execution_count": null,
   "metadata": {},
   "outputs": [],
   "source": [
    "import pandas as pd\n",
    "from sklearn.preprocessing import StandardScaler\n",
    "import re\n",
    "from nltk.corpus import stopwords\n",
    "from nltk.stem.porter import PorterStemmer\n",
    "from sklearn.feature_extraction.text import TfidfVectorizer\n",
    "from sklearn.model_selection import train_test_split\n",
    "from sklearn.metrics import accuracy_score\n",
    "from sklearn.metrics import confusion_matrix # for confusion matrix"
   ]
  },
  {
   "cell_type": "code",
   "execution_count": 36,
   "metadata": {},
   "outputs": [
    {
     "name": "stderr",
     "output_type": "stream",
     "text": [
      "[nltk_data] Downloading package stopwords to\n",
      "[nltk_data]     C:\\Users\\Maitreyee\\AppData\\Roaming\\nltk_data...\n",
      "[nltk_data]   Package stopwords is already up-to-date!\n"
     ]
    },
    {
     "data": {
      "text/plain": [
       "True"
      ]
     },
     "execution_count": 36,
     "metadata": {},
     "output_type": "execute_result"
    }
   ],
   "source": [
    "import nltk\n",
    "nltk.download('stopwords')"
   ]
  },
  {
   "cell_type": "code",
   "execution_count": 37,
   "metadata": {},
   "outputs": [
    {
     "name": "stdout",
     "output_type": "stream",
     "text": [
      "['a', 'about', 'above', 'after', 'again', 'against', 'ain', 'all', 'am', 'an', 'and', 'any', 'are', 'aren', \"aren't\", 'as', 'at', 'be', 'because', 'been', 'before', 'being', 'below', 'between', 'both', 'but', 'by', 'can', 'couldn', \"couldn't\", 'd', 'did', 'didn', \"didn't\", 'do', 'does', 'doesn', \"doesn't\", 'doing', 'don', \"don't\", 'down', 'during', 'each', 'few', 'for', 'from', 'further', 'had', 'hadn', \"hadn't\", 'has', 'hasn', \"hasn't\", 'have', 'haven', \"haven't\", 'having', 'he', \"he'd\", \"he'll\", 'her', 'here', 'hers', 'herself', \"he's\", 'him', 'himself', 'his', 'how', 'i', \"i'd\", 'if', \"i'll\", \"i'm\", 'in', 'into', 'is', 'isn', \"isn't\", 'it', \"it'd\", \"it'll\", \"it's\", 'its', 'itself', \"i've\", 'just', 'll', 'm', 'ma', 'me', 'mightn', \"mightn't\", 'more', 'most', 'mustn', \"mustn't\", 'my', 'myself', 'needn', \"needn't\", 'no', 'nor', 'not', 'now', 'o', 'of', 'off', 'on', 'once', 'only', 'or', 'other', 'our', 'ours', 'ourselves', 'out', 'over', 'own', 're', 's', 'same', 'shan', \"shan't\", 'she', \"she'd\", \"she'll\", \"she's\", 'should', 'shouldn', \"shouldn't\", \"should've\", 'so', 'some', 'such', 't', 'than', 'that', \"that'll\", 'the', 'their', 'theirs', 'them', 'themselves', 'then', 'there', 'these', 'they', \"they'd\", \"they'll\", \"they're\", \"they've\", 'this', 'those', 'through', 'to', 'too', 'under', 'until', 'up', 've', 'very', 'was', 'wasn', \"wasn't\", 'we', \"we'd\", \"we'll\", \"we're\", 'were', 'weren', \"weren't\", \"we've\", 'what', 'when', 'where', 'which', 'while', 'who', 'whom', 'why', 'will', 'with', 'won', \"won't\", 'wouldn', \"wouldn't\", 'y', 'you', \"you'd\", \"you'll\", 'your', \"you're\", 'yours', 'yourself', 'yourselves', \"you've\"]\n"
     ]
    }
   ],
   "source": [
    "print(stopwords.words('english'))"
   ]
  },
  {
   "cell_type": "code",
   "execution_count": 38,
   "metadata": {},
   "outputs": [],
   "source": [
    "true_data=pd.read_csv('True.csv')\n",
    "fake_data=pd.read_csv('Fake.csv')\n",
    "\n"
   ]
  },
  {
   "cell_type": "code",
   "execution_count": 39,
   "metadata": {},
   "outputs": [
    {
     "name": "stdout",
     "output_type": "stream",
     "text": [
      "WASHINGTON (Reuters) - The head of a conservative Republican faction in the U.S. Congress, who voted this month for a huge expansion of the national debt to pay for tax cuts, called himself a “fiscal conservative” on Sunday and urged budget restraint in 2018. In keeping with a sharp pivot under way among Republicans, U.S. Representative Mark Meadows, speaking on CBS’ “Face the Nation,” drew a hard line on federal spending, which lawmakers are bracing to do battle over in January. When they return from the holidays on Wednesday, lawmakers will begin trying to pass a federal budget in a fight likely to be linked to other issues, such as immigration policy, even as the November congressional election campaigns approach in which Republicans will seek to keep control of Congress. President Donald Trump and his Republicans want a big budget increase in military spending, while Democrats also want proportional increases for non-defense “discretionary” spending on programs that support education, scientific research, infrastructure, public health and environmental protection. “The (Trump) administration has already been willing to say: ‘We’re going to increase non-defense discretionary spending ... by about 7 percent,’” Meadows, chairman of the small but influential House Freedom Caucus, said on the program. “Now, Democrats are saying that’s not enough, we need to give the government a pay raise of 10 to 11 percent. For a fiscal conservative, I don’t see where the rationale is. ... Eventually you run out of other people’s money,” he said. Meadows was among Republicans who voted in late December for their party’s debt-financed tax overhaul, which is expected to balloon the federal budget deficit and add about $1.5 trillion over 10 years to the $20 trillion national debt. “It’s interesting to hear Mark talk about fiscal responsibility,” Democratic U.S. Representative Joseph Crowley said on CBS. Crowley said the Republican tax bill would require the  United States to borrow $1.5 trillion, to be paid off by future generations, to finance tax cuts for corporations and the rich. “This is one of the least ... fiscally responsible bills we’ve ever seen passed in the history of the House of Representatives. I think we’re going to be paying for this for many, many years to come,” Crowley said. Republicans insist the tax package, the biggest U.S. tax overhaul in more than 30 years,  will boost the economy and job growth. House Speaker Paul Ryan, who also supported the tax bill, recently went further than Meadows, making clear in a radio interview that welfare or “entitlement reform,” as the party often calls it, would be a top Republican priority in 2018. In Republican parlance, “entitlement” programs mean food stamps, housing assistance, Medicare and Medicaid health insurance for the elderly, poor and disabled, as well as other programs created by Washington to assist the needy. Democrats seized on Ryan’s early December remarks, saying they showed Republicans would try to pay for their tax overhaul by seeking spending cuts for social programs. But the goals of House Republicans may have to take a back seat to the Senate, where the votes of some Democrats will be needed to approve a budget and prevent a government shutdown. Democrats will use their leverage in the Senate, which Republicans narrowly control, to defend both discretionary non-defense programs and social spending, while tackling the issue of the “Dreamers,” people brought illegally to the country as children. Trump in September put a March 2018 expiration date on the Deferred Action for Childhood Arrivals, or DACA, program, which protects the young immigrants from deportation and provides them with work permits. The president has said in recent Twitter messages he wants funding for his proposed Mexican border wall and other immigration law changes in exchange for agreeing to help the Dreamers. Representative Debbie Dingell told CBS she did not favor linking that issue to other policy objectives, such as wall funding. “We need to do DACA clean,” she said.  On Wednesday, Trump aides will meet with congressional leaders to discuss those issues. That will be followed by a weekend of strategy sessions for Trump and Republican leaders on Jan. 6 and 7, the White House said. Trump was also scheduled to meet on Sunday with Florida Republican Governor Rick Scott, who wants more emergency aid. The House has passed an $81 billion aid package after hurricanes in Florida, Texas and Puerto Rico, and wildfires in California. The package far exceeded the $44 billion requested by the Trump administration. The Senate has not yet voted on the aid. \n"
     ]
    },
    {
     "data": {
      "text/plain": [
       "Index(['title', 'text', 'subject', 'date'], dtype='object')"
      ]
     },
     "execution_count": 39,
     "metadata": {},
     "output_type": "execute_result"
    }
   ],
   "source": [
    "print(true_data['text'][0])\n",
    "true_data.columns"
   ]
  },
  {
   "cell_type": "code",
   "execution_count": 40,
   "metadata": {},
   "outputs": [
    {
     "name": "stdout",
     "output_type": "stream",
     "text": [
      "                                               title  \\\n",
      "0  As U.S. budget fight looms, Republicans flip t...   \n",
      "1  U.S. military to accept transgender recruits o...   \n",
      "2  Senior U.S. Republican senator: 'Let Mr. Muell...   \n",
      "3  FBI Russia probe helped by Australian diplomat...   \n",
      "4  Trump wants Postal Service to charge 'much mor...   \n",
      "5  White House, Congress prepare for talks on spe...   \n",
      "6  Trump says Russia probe will be fair, but time...   \n",
      "7  Factbox: Trump on Twitter (Dec 29) - Approval ...   \n",
      "8         Trump on Twitter (Dec 28) - Global Warming   \n",
      "9  Alabama official to certify Senator-elect Jone...   \n",
      "\n",
      "                                                text       subject  \\\n",
      "0  WASHINGTON (Reuters) - The head of a conservat...  politicsNews   \n",
      "1  WASHINGTON (Reuters) - Transgender people will...  politicsNews   \n",
      "2  WASHINGTON (Reuters) - The special counsel inv...  politicsNews   \n",
      "3  WASHINGTON (Reuters) - Trump campaign adviser ...  politicsNews   \n",
      "4  SEATTLE/WASHINGTON (Reuters) - President Donal...  politicsNews   \n",
      "5  WEST PALM BEACH, Fla./WASHINGTON (Reuters) - T...  politicsNews   \n",
      "6  WEST PALM BEACH, Fla (Reuters) - President Don...  politicsNews   \n",
      "7  The following statements were posted to the ve...  politicsNews   \n",
      "8  The following statements were posted to the ve...  politicsNews   \n",
      "9  WASHINGTON (Reuters) - Alabama Secretary of St...  politicsNews   \n",
      "\n",
      "                 date  \n",
      "0  December 31, 2017   \n",
      "1  December 29, 2017   \n",
      "2  December 31, 2017   \n",
      "3  December 30, 2017   \n",
      "4  December 29, 2017   \n",
      "5  December 29, 2017   \n",
      "6  December 29, 2017   \n",
      "7  December 29, 2017   \n",
      "8  December 29, 2017   \n",
      "9  December 28, 2017   \n"
     ]
    },
    {
     "data": {
      "text/html": [
       "<div>\n",
       "<style scoped>\n",
       "    .dataframe tbody tr th:only-of-type {\n",
       "        vertical-align: middle;\n",
       "    }\n",
       "\n",
       "    .dataframe tbody tr th {\n",
       "        vertical-align: top;\n",
       "    }\n",
       "\n",
       "    .dataframe thead th {\n",
       "        text-align: right;\n",
       "    }\n",
       "</style>\n",
       "<table border=\"1\" class=\"dataframe\">\n",
       "  <thead>\n",
       "    <tr style=\"text-align: right;\">\n",
       "      <th></th>\n",
       "      <th>title</th>\n",
       "      <th>text</th>\n",
       "      <th>subject</th>\n",
       "      <th>date</th>\n",
       "    </tr>\n",
       "  </thead>\n",
       "  <tbody>\n",
       "    <tr>\n",
       "      <th>0</th>\n",
       "      <td>Donald Trump Sends Out Embarrassing New Year’...</td>\n",
       "      <td>Donald Trump just couldn t wish all Americans ...</td>\n",
       "      <td>News</td>\n",
       "      <td>December 31, 2017</td>\n",
       "    </tr>\n",
       "    <tr>\n",
       "      <th>1</th>\n",
       "      <td>Drunk Bragging Trump Staffer Started Russian ...</td>\n",
       "      <td>House Intelligence Committee Chairman Devin Nu...</td>\n",
       "      <td>News</td>\n",
       "      <td>December 31, 2017</td>\n",
       "    </tr>\n",
       "    <tr>\n",
       "      <th>2</th>\n",
       "      <td>Sheriff David Clarke Becomes An Internet Joke...</td>\n",
       "      <td>On Friday, it was revealed that former Milwauk...</td>\n",
       "      <td>News</td>\n",
       "      <td>December 30, 2017</td>\n",
       "    </tr>\n",
       "    <tr>\n",
       "      <th>3</th>\n",
       "      <td>Trump Is So Obsessed He Even Has Obama’s Name...</td>\n",
       "      <td>On Christmas day, Donald Trump announced that ...</td>\n",
       "      <td>News</td>\n",
       "      <td>December 29, 2017</td>\n",
       "    </tr>\n",
       "  </tbody>\n",
       "</table>\n",
       "</div>"
      ],
      "text/plain": [
       "                                               title  \\\n",
       "0   Donald Trump Sends Out Embarrassing New Year’...   \n",
       "1   Drunk Bragging Trump Staffer Started Russian ...   \n",
       "2   Sheriff David Clarke Becomes An Internet Joke...   \n",
       "3   Trump Is So Obsessed He Even Has Obama’s Name...   \n",
       "\n",
       "                                                text subject  \\\n",
       "0  Donald Trump just couldn t wish all Americans ...    News   \n",
       "1  House Intelligence Committee Chairman Devin Nu...    News   \n",
       "2  On Friday, it was revealed that former Milwauk...    News   \n",
       "3  On Christmas day, Donald Trump announced that ...    News   \n",
       "\n",
       "                date  \n",
       "0  December 31, 2017  \n",
       "1  December 31, 2017  \n",
       "2  December 30, 2017  \n",
       "3  December 29, 2017  "
      ]
     },
     "execution_count": 40,
     "metadata": {},
     "output_type": "execute_result"
    }
   ],
   "source": [
    "print(true_data[0:10])\n",
    "fake_data[0:4]"
   ]
  },
  {
   "cell_type": "code",
   "execution_count": 41,
   "metadata": {},
   "outputs": [
    {
     "data": {
      "text/plain": [
       "21417"
      ]
     },
     "execution_count": 41,
     "metadata": {},
     "output_type": "execute_result"
    }
   ],
   "source": [
    "len(true_data)"
   ]
  },
  {
   "cell_type": "code",
   "execution_count": 42,
   "metadata": {},
   "outputs": [
    {
     "data": {
      "text/plain": [
       "23481"
      ]
     },
     "execution_count": 42,
     "metadata": {},
     "output_type": "execute_result"
    }
   ],
   "source": [
    "len(fake_data)"
   ]
  },
  {
   "cell_type": "code",
   "execution_count": 43,
   "metadata": {},
   "outputs": [
    {
     "name": "stdout",
     "output_type": "stream",
     "text": [
      "                                               title  \\\n",
      "0  As U.S. budget fight looms, Republicans flip t...   \n",
      "1  U.S. military to accept transgender recruits o...   \n",
      "2  Senior U.S. Republican senator: 'Let Mr. Muell...   \n",
      "3  FBI Russia probe helped by Australian diplomat...   \n",
      "4  Trump wants Postal Service to charge 'much mor...   \n",
      "\n",
      "                                                text       subject  \\\n",
      "0  WASHINGTON (Reuters) - The head of a conservat...  politicsNews   \n",
      "1  WASHINGTON (Reuters) - Transgender people will...  politicsNews   \n",
      "2  WASHINGTON (Reuters) - The special counsel inv...  politicsNews   \n",
      "3  WASHINGTON (Reuters) - Trump campaign adviser ...  politicsNews   \n",
      "4  SEATTLE/WASHINGTON (Reuters) - President Donal...  politicsNews   \n",
      "\n",
      "                 date  label  \n",
      "0  December 31, 2017       0  \n",
      "1  December 29, 2017       0  \n",
      "2  December 31, 2017       0  \n",
      "3  December 30, 2017       0  \n",
      "4  December 29, 2017       0  \n"
     ]
    },
    {
     "data": {
      "text/html": [
       "<div>\n",
       "<style scoped>\n",
       "    .dataframe tbody tr th:only-of-type {\n",
       "        vertical-align: middle;\n",
       "    }\n",
       "\n",
       "    .dataframe tbody tr th {\n",
       "        vertical-align: top;\n",
       "    }\n",
       "\n",
       "    .dataframe thead th {\n",
       "        text-align: right;\n",
       "    }\n",
       "</style>\n",
       "<table border=\"1\" class=\"dataframe\">\n",
       "  <thead>\n",
       "    <tr style=\"text-align: right;\">\n",
       "      <th></th>\n",
       "      <th>title</th>\n",
       "      <th>text</th>\n",
       "      <th>subject</th>\n",
       "      <th>date</th>\n",
       "      <th>label</th>\n",
       "    </tr>\n",
       "  </thead>\n",
       "  <tbody>\n",
       "    <tr>\n",
       "      <th>0</th>\n",
       "      <td>Donald Trump Sends Out Embarrassing New Year’...</td>\n",
       "      <td>Donald Trump just couldn t wish all Americans ...</td>\n",
       "      <td>News</td>\n",
       "      <td>December 31, 2017</td>\n",
       "      <td>1</td>\n",
       "    </tr>\n",
       "    <tr>\n",
       "      <th>1</th>\n",
       "      <td>Drunk Bragging Trump Staffer Started Russian ...</td>\n",
       "      <td>House Intelligence Committee Chairman Devin Nu...</td>\n",
       "      <td>News</td>\n",
       "      <td>December 31, 2017</td>\n",
       "      <td>1</td>\n",
       "    </tr>\n",
       "    <tr>\n",
       "      <th>2</th>\n",
       "      <td>Sheriff David Clarke Becomes An Internet Joke...</td>\n",
       "      <td>On Friday, it was revealed that former Milwauk...</td>\n",
       "      <td>News</td>\n",
       "      <td>December 30, 2017</td>\n",
       "      <td>1</td>\n",
       "    </tr>\n",
       "    <tr>\n",
       "      <th>3</th>\n",
       "      <td>Trump Is So Obsessed He Even Has Obama’s Name...</td>\n",
       "      <td>On Christmas day, Donald Trump announced that ...</td>\n",
       "      <td>News</td>\n",
       "      <td>December 29, 2017</td>\n",
       "      <td>1</td>\n",
       "    </tr>\n",
       "    <tr>\n",
       "      <th>4</th>\n",
       "      <td>Pope Francis Just Called Out Donald Trump Dur...</td>\n",
       "      <td>Pope Francis used his annual Christmas Day mes...</td>\n",
       "      <td>News</td>\n",
       "      <td>December 25, 2017</td>\n",
       "      <td>1</td>\n",
       "    </tr>\n",
       "  </tbody>\n",
       "</table>\n",
       "</div>"
      ],
      "text/plain": [
       "                                               title  \\\n",
       "0   Donald Trump Sends Out Embarrassing New Year’...   \n",
       "1   Drunk Bragging Trump Staffer Started Russian ...   \n",
       "2   Sheriff David Clarke Becomes An Internet Joke...   \n",
       "3   Trump Is So Obsessed He Even Has Obama’s Name...   \n",
       "4   Pope Francis Just Called Out Donald Trump Dur...   \n",
       "\n",
       "                                                text subject  \\\n",
       "0  Donald Trump just couldn t wish all Americans ...    News   \n",
       "1  House Intelligence Committee Chairman Devin Nu...    News   \n",
       "2  On Friday, it was revealed that former Milwauk...    News   \n",
       "3  On Christmas day, Donald Trump announced that ...    News   \n",
       "4  Pope Francis used his annual Christmas Day mes...    News   \n",
       "\n",
       "                date  label  \n",
       "0  December 31, 2017      1  \n",
       "1  December 31, 2017      1  \n",
       "2  December 30, 2017      1  \n",
       "3  December 29, 2017      1  \n",
       "4  December 25, 2017      1  "
      ]
     },
     "execution_count": 43,
     "metadata": {},
     "output_type": "execute_result"
    }
   ],
   "source": [
    "fake_data['label'] = 1\n",
    "true_data['label']=0\n",
    "print(true_data.head())\n",
    "fake_data.head()"
   ]
  },
  {
   "cell_type": "code",
   "execution_count": 44,
   "metadata": {},
   "outputs": [
    {
     "name": "stdout",
     "output_type": "stream",
     "text": [
      "Index(['title', 'text', 'subject', 'date', 'label'], dtype='object')\n"
     ]
    },
    {
     "data": {
      "text/html": [
       "<div>\n",
       "<style scoped>\n",
       "    .dataframe tbody tr th:only-of-type {\n",
       "        vertical-align: middle;\n",
       "    }\n",
       "\n",
       "    .dataframe tbody tr th {\n",
       "        vertical-align: top;\n",
       "    }\n",
       "\n",
       "    .dataframe thead th {\n",
       "        text-align: right;\n",
       "    }\n",
       "</style>\n",
       "<table border=\"1\" class=\"dataframe\">\n",
       "  <thead>\n",
       "    <tr style=\"text-align: right;\">\n",
       "      <th></th>\n",
       "      <th>title</th>\n",
       "      <th>text</th>\n",
       "      <th>subject</th>\n",
       "      <th>date</th>\n",
       "      <th>label</th>\n",
       "    </tr>\n",
       "  </thead>\n",
       "  <tbody>\n",
       "    <tr>\n",
       "      <th>12727</th>\n",
       "      <td>CATHOLIC BISHOP OUTRAGED Over Hillary’s ANTI-C...</td>\n",
       "      <td>Hillary s been using churches across America a...</td>\n",
       "      <td>politics</td>\n",
       "      <td>Oct 15, 2016</td>\n",
       "      <td>1</td>\n",
       "    </tr>\n",
       "    <tr>\n",
       "      <th>14583</th>\n",
       "      <td>Mexican women testify over sexual torture befo...</td>\n",
       "      <td>SAN JOSE (Reuters) - Women who were sexually t...</td>\n",
       "      <td>worldnews</td>\n",
       "      <td>November 17, 2017</td>\n",
       "      <td>0</td>\n",
       "    </tr>\n",
       "    <tr>\n",
       "      <th>1260</th>\n",
       "      <td>Israeli minister says Trump speech may start w...</td>\n",
       "      <td>JERUSALEM (Reuters) - Israel’s intelligence mi...</td>\n",
       "      <td>politicsNews</td>\n",
       "      <td>October 13, 2017</td>\n",
       "      <td>0</td>\n",
       "    </tr>\n",
       "    <tr>\n",
       "      <th>19579</th>\n",
       "      <td>#HAMILTON Star Makes Jokes On Twitter About “B...</td>\n",
       "      <td>When not lecturing the Trump Administration fo...</td>\n",
       "      <td>left-news</td>\n",
       "      <td>Nov 20, 2016</td>\n",
       "      <td>1</td>\n",
       "    </tr>\n",
       "    <tr>\n",
       "      <th>17826</th>\n",
       "      <td>#DirtyHarvey Weinstein Tries To Flee In Strang...</td>\n",
       "      <td>Members of the Los Angeles Police Department a...</td>\n",
       "      <td>left-news</td>\n",
       "      <td>Oct 11, 2017</td>\n",
       "      <td>1</td>\n",
       "    </tr>\n",
       "  </tbody>\n",
       "</table>\n",
       "</div>"
      ],
      "text/plain": [
       "                                                   title  \\\n",
       "12727  CATHOLIC BISHOP OUTRAGED Over Hillary’s ANTI-C...   \n",
       "14583  Mexican women testify over sexual torture befo...   \n",
       "1260   Israeli minister says Trump speech may start w...   \n",
       "19579  #HAMILTON Star Makes Jokes On Twitter About “B...   \n",
       "17826  #DirtyHarvey Weinstein Tries To Flee In Strang...   \n",
       "\n",
       "                                                    text       subject  \\\n",
       "12727  Hillary s been using churches across America a...      politics   \n",
       "14583  SAN JOSE (Reuters) - Women who were sexually t...     worldnews   \n",
       "1260   JERUSALEM (Reuters) - Israel’s intelligence mi...  politicsNews   \n",
       "19579  When not lecturing the Trump Administration fo...     left-news   \n",
       "17826  Members of the Los Angeles Police Department a...     left-news   \n",
       "\n",
       "                     date  label  \n",
       "12727        Oct 15, 2016      1  \n",
       "14583  November 17, 2017       0  \n",
       "1260    October 13, 2017       0  \n",
       "19579        Nov 20, 2016      1  \n",
       "17826        Oct 11, 2017      1  "
      ]
     },
     "execution_count": 44,
     "metadata": {},
     "output_type": "execute_result"
    }
   ],
   "source": [
    "all_data=pd.concat([fake_data, true_data])\n",
    "random_permutation = np.random.permutation(len(all_data))       #shuffles the rows for mixing sammples\n",
    "all_data= all_data.iloc[random_permutation]\n",
    "print(all_data.columns)\n",
    "all_data.head()"
   ]
  },
  {
   "cell_type": "code",
   "execution_count": 45,
   "metadata": {},
   "outputs": [
    {
     "data": {
      "text/html": [
       "<div>\n",
       "<style scoped>\n",
       "    .dataframe tbody tr th:only-of-type {\n",
       "        vertical-align: middle;\n",
       "    }\n",
       "\n",
       "    .dataframe tbody tr th {\n",
       "        vertical-align: top;\n",
       "    }\n",
       "\n",
       "    .dataframe thead th {\n",
       "        text-align: right;\n",
       "    }\n",
       "</style>\n",
       "<table border=\"1\" class=\"dataframe\">\n",
       "  <thead>\n",
       "    <tr style=\"text-align: right;\">\n",
       "      <th></th>\n",
       "      <th>title</th>\n",
       "      <th>text</th>\n",
       "      <th>subject</th>\n",
       "      <th>label</th>\n",
       "    </tr>\n",
       "  </thead>\n",
       "  <tbody>\n",
       "    <tr>\n",
       "      <th>12727</th>\n",
       "      <td>CATHOLIC BISHOP OUTRAGED Over Hillary’s ANTI-C...</td>\n",
       "      <td>Hillary s been using churches across America a...</td>\n",
       "      <td>politics</td>\n",
       "      <td>1</td>\n",
       "    </tr>\n",
       "    <tr>\n",
       "      <th>14583</th>\n",
       "      <td>Mexican women testify over sexual torture befo...</td>\n",
       "      <td>SAN JOSE (Reuters) - Women who were sexually t...</td>\n",
       "      <td>worldnews</td>\n",
       "      <td>0</td>\n",
       "    </tr>\n",
       "    <tr>\n",
       "      <th>1260</th>\n",
       "      <td>Israeli minister says Trump speech may start w...</td>\n",
       "      <td>JERUSALEM (Reuters) - Israel’s intelligence mi...</td>\n",
       "      <td>politicsNews</td>\n",
       "      <td>0</td>\n",
       "    </tr>\n",
       "    <tr>\n",
       "      <th>19579</th>\n",
       "      <td>#HAMILTON Star Makes Jokes On Twitter About “B...</td>\n",
       "      <td>When not lecturing the Trump Administration fo...</td>\n",
       "      <td>left-news</td>\n",
       "      <td>1</td>\n",
       "    </tr>\n",
       "    <tr>\n",
       "      <th>17826</th>\n",
       "      <td>#DirtyHarvey Weinstein Tries To Flee In Strang...</td>\n",
       "      <td>Members of the Los Angeles Police Department a...</td>\n",
       "      <td>left-news</td>\n",
       "      <td>1</td>\n",
       "    </tr>\n",
       "  </tbody>\n",
       "</table>\n",
       "</div>"
      ],
      "text/plain": [
       "                                                   title  \\\n",
       "12727  CATHOLIC BISHOP OUTRAGED Over Hillary’s ANTI-C...   \n",
       "14583  Mexican women testify over sexual torture befo...   \n",
       "1260   Israeli minister says Trump speech may start w...   \n",
       "19579  #HAMILTON Star Makes Jokes On Twitter About “B...   \n",
       "17826  #DirtyHarvey Weinstein Tries To Flee In Strang...   \n",
       "\n",
       "                                                    text       subject  label  \n",
       "12727  Hillary s been using churches across America a...      politics      1  \n",
       "14583  SAN JOSE (Reuters) - Women who were sexually t...     worldnews      0  \n",
       "1260   JERUSALEM (Reuters) - Israel’s intelligence mi...  politicsNews      0  \n",
       "19579  When not lecturing the Trump Administration fo...     left-news      1  \n",
       "17826  Members of the Los Angeles Police Department a...     left-news      1  "
      ]
     },
     "execution_count": 45,
     "metadata": {},
     "output_type": "execute_result"
    }
   ],
   "source": [
    "filtered_data=all_data.loc[:, ['title', 'text', \"subject\", 'label']]\n",
    "filtered_data.head()"
   ]
  },
  {
   "cell_type": "code",
   "execution_count": 46,
   "metadata": {},
   "outputs": [
    {
     "data": {
      "text/plain": [
       "title      0\n",
       "text       0\n",
       "subject    0\n",
       "label      0\n",
       "dtype: int64"
      ]
     },
     "execution_count": 46,
     "metadata": {},
     "output_type": "execute_result"
    }
   ],
   "source": [
    "filtered_data.isnull().sum()"
   ]
  },
  {
   "cell_type": "code",
   "execution_count": 47,
   "metadata": {},
   "outputs": [
    {
     "data": {
      "text/html": [
       "<div>\n",
       "<style scoped>\n",
       "    .dataframe tbody tr th:only-of-type {\n",
       "        vertical-align: middle;\n",
       "    }\n",
       "\n",
       "    .dataframe tbody tr th {\n",
       "        vertical-align: top;\n",
       "    }\n",
       "\n",
       "    .dataframe thead th {\n",
       "        text-align: right;\n",
       "    }\n",
       "</style>\n",
       "<table border=\"1\" class=\"dataframe\">\n",
       "  <thead>\n",
       "    <tr style=\"text-align: right;\">\n",
       "      <th></th>\n",
       "      <th>title</th>\n",
       "      <th>text</th>\n",
       "      <th>subject</th>\n",
       "      <th>label</th>\n",
       "      <th>training_feature</th>\n",
       "    </tr>\n",
       "  </thead>\n",
       "  <tbody>\n",
       "    <tr>\n",
       "      <th>12727</th>\n",
       "      <td>CATHOLIC BISHOP OUTRAGED Over Hillary’s ANTI-C...</td>\n",
       "      <td>Hillary s been using churches across America a...</td>\n",
       "      <td>politics</td>\n",
       "      <td>1</td>\n",
       "      <td>CATHOLIC BISHOP OUTRAGED Over Hillary’s ANTI-C...</td>\n",
       "    </tr>\n",
       "    <tr>\n",
       "      <th>14583</th>\n",
       "      <td>Mexican women testify over sexual torture befo...</td>\n",
       "      <td>SAN JOSE (Reuters) - Women who were sexually t...</td>\n",
       "      <td>worldnews</td>\n",
       "      <td>0</td>\n",
       "      <td>Mexican women testify over sexual torture befo...</td>\n",
       "    </tr>\n",
       "    <tr>\n",
       "      <th>1260</th>\n",
       "      <td>Israeli minister says Trump speech may start w...</td>\n",
       "      <td>JERUSALEM (Reuters) - Israel’s intelligence mi...</td>\n",
       "      <td>politicsNews</td>\n",
       "      <td>0</td>\n",
       "      <td>Israeli minister says Trump speech may start w...</td>\n",
       "    </tr>\n",
       "    <tr>\n",
       "      <th>19579</th>\n",
       "      <td>#HAMILTON Star Makes Jokes On Twitter About “B...</td>\n",
       "      <td>When not lecturing the Trump Administration fo...</td>\n",
       "      <td>left-news</td>\n",
       "      <td>1</td>\n",
       "      <td>#HAMILTON Star Makes Jokes On Twitter About “B...</td>\n",
       "    </tr>\n",
       "    <tr>\n",
       "      <th>17826</th>\n",
       "      <td>#DirtyHarvey Weinstein Tries To Flee In Strang...</td>\n",
       "      <td>Members of the Los Angeles Police Department a...</td>\n",
       "      <td>left-news</td>\n",
       "      <td>1</td>\n",
       "      <td>#DirtyHarvey Weinstein Tries To Flee In Strang...</td>\n",
       "    </tr>\n",
       "  </tbody>\n",
       "</table>\n",
       "</div>"
      ],
      "text/plain": [
       "                                                   title  \\\n",
       "12727  CATHOLIC BISHOP OUTRAGED Over Hillary’s ANTI-C...   \n",
       "14583  Mexican women testify over sexual torture befo...   \n",
       "1260   Israeli minister says Trump speech may start w...   \n",
       "19579  #HAMILTON Star Makes Jokes On Twitter About “B...   \n",
       "17826  #DirtyHarvey Weinstein Tries To Flee In Strang...   \n",
       "\n",
       "                                                    text       subject  label  \\\n",
       "12727  Hillary s been using churches across America a...      politics      1   \n",
       "14583  SAN JOSE (Reuters) - Women who were sexually t...     worldnews      0   \n",
       "1260   JERUSALEM (Reuters) - Israel’s intelligence mi...  politicsNews      0   \n",
       "19579  When not lecturing the Trump Administration fo...     left-news      1   \n",
       "17826  Members of the Los Angeles Police Department a...     left-news      1   \n",
       "\n",
       "                                        training_feature  \n",
       "12727  CATHOLIC BISHOP OUTRAGED Over Hillary’s ANTI-C...  \n",
       "14583  Mexican women testify over sexual torture befo...  \n",
       "1260   Israeli minister says Trump speech may start w...  \n",
       "19579  #HAMILTON Star Makes Jokes On Twitter About “B...  \n",
       "17826  #DirtyHarvey Weinstein Tries To Flee In Strang...  "
      ]
     },
     "execution_count": 47,
     "metadata": {},
     "output_type": "execute_result"
    }
   ],
   "source": [
    "filtered_data['training_feature']=filtered_data['title']+' '+filtered_data['text']+' '+filtered_data['subject']   #text,title,sub concatenated\n",
    "filtered_data.head()"
   ]
  },
  {
   "cell_type": "code",
   "execution_count": 48,
   "metadata": {},
   "outputs": [],
   "source": [
    "X= filtered_data['training_feature'].values  #concatenated strings representing the combined features from the 'title', 'text', and 'subject' columns.\n",
    "Y = filtered_data['label']                   #each sample is classified as fake or true news."
   ]
  },
  {
   "cell_type": "code",
   "execution_count": 49,
   "metadata": {},
   "outputs": [
    {
     "name": "stdout",
     "output_type": "stream",
     "text": [
      "(44898,)\n",
      "(44898,)\n"
     ]
    },
    {
     "data": {
      "text/plain": [
       "numpy.ndarray"
      ]
     },
     "execution_count": 49,
     "metadata": {},
     "output_type": "execute_result"
    }
   ],
   "source": [
    "print(X.shape)\n",
    "print(Y.shape)\n",
    "type (X)"
   ]
  },
  {
   "cell_type": "code",
   "execution_count": 50,
   "metadata": {},
   "outputs": [
    {
     "name": "stdout",
     "output_type": "stream",
     "text": [
      "['CATHOLIC BISHOP OUTRAGED Over Hillary’s ANTI-CATHOLIC BIGOTRY: Hillary’s A “Scheming, Robotic Liar With Lifelong Appetite For Power” [VIDEO] Hillary s been using churches across America as a backdrop to promote the violent Black Lives Matter movement in an effort to pander for black votes. She proves every day how little respect she has for our religious institutions, the Christian community and more specifically, the Catholic church and it s  backwards  members. Will Catholics finally see the writing on the wall this election, or will they elect a woman who will unquestionably nominate Supreme Court Justices who are hell-bent on destroying our religious rights?Outraged by the anti-Catholic bigotry displayed in leaked Team Clinton emails this week, the powerful Philadelphia bishop blasted both President Obama and Hillary Rodham Clinton for their efforts to undermine church teachings.In his weekly column for the Archdiocese of Philadelphia, Archbishop Charles Chaput Thursday demanded that Clinton repudiate the emails   then added that he doesn t expect her to.Mocking the theme in the emails that Catholics are backward thinking for views on abortion, marriage and other core issues, Chaput wrote,  Of course it would be wonderful for the Clinton campaign to repudiate the content of these ugly WikiLeaks emails. All of us backward-thinking Catholics who actually believe what Scripture and the Church teach would be so very grateful. Via: Washington Examiner politics']\n"
     ]
    }
   ],
   "source": [
    "print(X[0:1])"
   ]
  },
  {
   "cell_type": "code",
   "execution_count": 51,
   "metadata": {},
   "outputs": [],
   "source": [
    "port_stem= PorterStemmer()"
   ]
  },
  {
   "cell_type": "code",
   "execution_count": 52,
   "metadata": {},
   "outputs": [],
   "source": [
    "def stemming(content):   #stemming is a function here\n",
    "  stemmed_content = re.sub('[^a-zA-z]',' ',content)       #removes everything that is not btw aA-zZ(all numbers and puntuations replaced by space)\n",
    "  stemmed_content = stemmed_content.lower()                #converts all uc to lc to avoid problem during processing\n",
    "  stemmed_content = stemmed_content.split()                #all words and text will be splitted and converted to list\n",
    "  stemmed_content = [port_stem.stem(word) for word in stemmed_content if not word in stopwords.words('english')]\n",
    "  stemmed_content = ' '.join(stemmed_content)\n",
    "  return stemmed_content"
   ]
  },
  {
   "cell_type": "code",
   "execution_count": 53,
   "metadata": {},
   "outputs": [],
   "source": [
    "# filtered_data['training_feature'] = filtered_data['training_feature'].apply(stemming)"
   ]
  },
  {
   "cell_type": "code",
   "execution_count": 54,
   "metadata": {},
   "outputs": [],
   "source": [
    "# import pickle\n",
    "\n",
    "# # Assuming 'fake_news_data_cleaned' is your DataFrame containing the stemmed content\n",
    "\n",
    "# # Define the output file path\n",
    "# output_file = \"stemmed_filtered_data_naive_bayes_dt2.pkl\"\n",
    "\n",
    "# # Save the DataFrame containing the stemmed content using pickle\n",
    "# with open(output_file, \"wb\") as f:\n",
    "#     pickle.dump(filtered_data, f)\n",
    "\n",
    "# print(\"Stemmed fake news data saved to:\", output_file) \n"
   ]
  },
  {
   "cell_type": "code",
   "execution_count": 55,
   "metadata": {},
   "outputs": [
    {
     "name": "stdout",
     "output_type": "stream",
     "text": [
      "                                                   title  \\\n",
      "624     RNC Chair’s Comment Reveals Why Republicans M...   \n",
      "1246    New Info Reveals The TRUE Lengths Trump Went ...   \n",
      "11514  EXPOSED! OBAMA REGIME Gave MILLIONS US Tax Dol...   \n",
      "20545  France, Germany, Italy, Spain seek tax on digi...   \n",
      "1617   A North Korea nuclear test over the Pacific? L...   \n",
      "\n",
      "                                                    text       subject  label  \\\n",
      "624    You almost have to feel sorry for Republicans ...          News      1   \n",
      "1246   It s well known by now that Trump unsuccessful...          News      1   \n",
      "11514  The cash flows through the State Department an...      politics      1   \n",
      "20545  PARIS (Reuters) - France, Germany, Italy and S...     worldnews      0   \n",
      "1617   SEOUL/TOKYO (Reuters) - Detonating a nuclear-t...  politicsNews      0   \n",
      "\n",
      "                                        training_feature  \n",
      "624    rnc chair comment reveal republican may never ...  \n",
      "1246   new info reveal true length trump went order s...  \n",
      "11514  expos obama regim gave million us tax dollar r...  \n",
      "20545  franc germani itali spain seek tax digit giant...  \n",
      "1617   north korea nuclear test pacif logic terrifi s...  \n"
     ]
    }
   ],
   "source": [
    "import pickle\n",
    "\n",
    "# Define the path to the pickle file\n",
    "pickle_file_path = \"stemmed_filtered_data_naive_bayes_dt2.pkl\"\n",
    "\n",
    "# Load the DataFrame from the pickle file\n",
    "with open(pickle_file_path, \"rb\") as f:\n",
    "    stemmed_filtered_data_naive_bayes_dt2 = pickle.load(f)\n",
    "\n",
    "# Now you can use 'stemmed_fake_news_data' as your DataFrame containing the stemmed content\n",
    "# For example, you can access columns, perform further analysis, or save it to another format\n",
    "print(stemmed_filtered_data_naive_bayes_dt2.head())\n"
   ]
  },
  {
   "cell_type": "code",
   "execution_count": 56,
   "metadata": {},
   "outputs": [],
   "source": [
    "X= stemmed_filtered_data_naive_bayes_dt2['training_feature'].values #concatenated strings representing the combined features from the 'title', 'text', and 'subject' columns.\n",
    "Y = stemmed_filtered_data_naive_bayes_dt2['label']              #each sample is classified as fake or true news."
   ]
  },
  {
   "cell_type": "code",
   "execution_count": 57,
   "metadata": {},
   "outputs": [
    {
     "name": "stdout",
     "output_type": "stream",
     "text": [
      "['rnc chair comment reveal republican may never turn trump almost feel sorri republican almost find realli unpopular presid parti reward perfectli loyal dear orang leader ronna romney mcdaniel current head republican nation committe niec last republican presidenti loser mitt romney say support donald trump cautionari tale republican ever hope win anoth elect cnn laura ingraham show mcdaniel tri pretend rnc stay primari gop sen jeff flake sure lose unlik toy brown shirt robot congress refus march least paper trump xenophob gener everyth phobic messag flake wrote book call conscienc conserv reject destruct polit return principl titl partli stole barri goldwat flake dare take trump parti say trump symptom die parti make mistak govern philosophi conservat inde crisi spite appar success later blast self describ conserv chang polit stripe depend fashion passion day base much applaus line speech receiv ralli given polit anger belief rile base make fail attempt broaden elector flake write spasm die parti sourc nprnow parti piss mcdaniel fell short threaten flake implic clear day republican support trump like lose need anoth candid support three rnc member agre candid rule appli bylaw mcdaniel said interest parti standpoint govern member make decis sometim get nitti gritti say look senat support presid let look joe heck kelli ayott fell short senat race cautionari tale voter want support presid agenda sourc cnnwe note flake vote trump percent time guess conscienc man want sell book mcdaniel cours neglect mention elect trump approv rate sort close percent percent inabl negoti deal kind effort take health insur away base peopl begin turn polit climat month ago see elect cautionari tale anyth let russian interfer pretti much moot say though republican go turn trump anytim soon impeach uphil battl least want support parti cours import countri featur imag via mark wilson getti imag news'\n",
      " 'new info reveal true length trump went order stop fbi russia probe well known trump unsuccess pressur comey end fbi investig michael flynn russia mani might think attempt pressur author end investig end comey mayb attorney gener jeff session new report washington post detail trump went newli confirm director nation intellig daniel coat subject [trump] start complain fbi investig comey handl said offici familiar account coat gave associ two day earlier comey confirm congression hear bureau probe whether trump campaign coordin russia race interact coat indic trump aim enlist top offici comey curtail bureau probe trump spoke coat ask publicli deni exist evid collus campaign russia made similar request mike roger director nation intellig agenc refus trump want trump like upset control everi part execut branch like doubt thought would nomin confirm peopl modicum integr well knowledg intellig commun white hous behav respect serv push trump uncomfort corner trump alli continu deni anyth ever happen includ lie teeth ask one question trump know innoc tri interfer investig way behav like cover none behavior innoc man behavior someon someth hide featur imag via olivi doulieri pool getti imag news'\n",
      " 'expos obama regim gave million us tax dollar radic soro group use take conserv european nation govern cash flow state depart famous corrupt u agenc intern develop usaid charg provid global econom develop humanitarian assist usaid alloc million leftw soro group macedonia sinc document show least million earmark agenc interven balkan nation government affair clandestin oper function accord high level sourc macedonia u provid judici watch record part ongo investig open societi foundat establish fund dozen leftw nongovernment organ ngo macedonia overthrow conserv govern one macedonian govern offici interview judici watch washington c recent call soro infantri group organ youth movement creat influenti media outlet organ violent protest undermin institut polici implement govern one soro group fund translat public saul alinski rule radic macedonian book tactic manual subvers provid direct advic radic street protest proclaim lucif first radic thank obama ambassador replac presid trump uncl sam keep money flow group continu oper recruit sourc macedonia u confirm popul million macedonia one conserv govern europ includ lowest flat tax europ close tie israel pro life polici countri recent built border fenc crackdown illeg immigr crisi overwhelm law enforc agenc illeg alien cross greek macedonian border daili peak european migrat crisi macedonian offici told judici watch impact devast like big interest soro renown open border advoc push intern govern diminish u global power increas muslim immigr appear case macedonia help american financ number violent protest recent month coordin soro open societi foundat u fund ngo sourc tell judici watch u member congress express interest issu demand answer ambassador baili usaid state depart typic fashion state depart stonewal inquiri usaid much forthcom judici watch polit'\n",
      " ...\n",
      " 'australia popul growth outpac world migrant rush sydney reuter australia popul expand fastest pace develop world skill migrant flock resourc rich nation fillip econom growth overal perhap also sourc puzzl weak wage govern figur releas thursday show number peopl resid australia increas year june rise percent far global increas percent well ahead unit state gain percent canada percent still plenti room given giant contin still million peopl put rd unit nation global popul rank much australia growth came net oversea migrat surg percent year june highest month total sinc flow state new south wale victoria beat record strong labor market attract interst oversea migrant melbourn better hous afford job growth drive popul growth queensland tasmania said ryan felsman senior economist commsec overal stronger rate popul growth boost spend demand infrastructur demand home overal econom growth lead migrant countri includ china india britain new zealand flood newcom mostli skill migrant program one reason properti price tear recent year especi sydney melbourn extra demand creat new australian also major reason economi grew brisk percent year septemb inde strip away popul growth economi would expand percent yet influx abl bodi also expand workforc right time employ ramp demand labor restrain wage growth separ figur australian bureau statist releas thursday show barnstorm net new job creat year novemb wage still grew pedestrian annual pace percent perfect case expand suppli benefit employ rather alreadi employ policymak australia central bank baffl diverg employ wage cite mysteri argument rise interest rate anytim soon worldnew'\n",
      " 'watch violent trump fan shove peac protest stair behind like coward violenc hate wit trump ralli spill rest societi sinc billionair racist misogynist internet troll elect lead free world liter hundr hate crime mani name support prove complet unwil behav even victori anti trump protest ohio monday receiv remind violent natur anim known trump voter tim joseph deliv messag bullhorn ohio union osu columbu one trump voter voic displeasur current direct countri whatev bullsh media say explain away alleg peopl behavior today shove protest stair behind like coward cours idiot disenfranchis white man screech went wwe joseph one man wear guy fawk mask began beat live hell attack whose ident yet releas instead join like saw trump ralli throughout elect year protest calm man crowd detain peac polic arriv accord undergradu student govern presid gerard basalla attack student arrest place indefinit suspens assault occur union tonight complet unaccept basalla told lantern everi person campu right feel safe voic opinion without fear harm protect first amend right activ circumst toler intimid threat student faculti staff visitor campu univers presid michael drake said email student follow attack watch assault news'\n",
      " 'republican join democrat call clariti trump abort order washington reuter two presid donald trump fellow republican join four democrat monday demand white hous provid inform execut order sown confus among intern organ involv famili plan aid treatment healthcar issu one first action presid trump sign execut order jan reinstat call mexico citi polici known critic global gag rule withhold u fund intern organ perform abort provid inform abort although republican presid also adopt polici trump broaden scope global health assist may encompass much fifteen time feder fund previou republican administr version polici six senat wrote letter seen reuter order withhold half billion dollar u fund aid group said issu littl guidanc scrambl figur proceed letter senat said trump broader order includ presid emerg plan aid relief pepfar global health program fund depart state agenc intern develop depart health human servic pepfar enjoy broad bipartisan support congress largest provid aid fight medicin world credit save million live direct caus mass confus among feder agenc intern relief organ wait clariti administr global chill effect life save work said democrat senat jeann shaheen organ letter among thing senat ask trump administr conduct cost benefit assess polici whether determin mani live might save lost whether research transmiss diseas hiv aid zika might affect besid shaheen letter sign republican senat susan collin lisa murkowski democrat ben cardin richard blumenth angu king independ caucus democrat trump administr plan submit budget propos steep cut spend u state depart foreign aid sever republican member congress express reserv plan politicsnew']\n"
     ]
    }
   ],
   "source": [
    "print(X)"
   ]
  },
  {
   "cell_type": "code",
   "execution_count": 58,
   "metadata": {},
   "outputs": [
    {
     "name": "stdout",
     "output_type": "stream",
     "text": [
      "624      1\n",
      "1246     1\n",
      "11514    1\n",
      "20545    0\n",
      "1617     0\n",
      "        ..\n",
      "3089     0\n",
      "13698    1\n",
      "12344    0\n",
      "3804     1\n",
      "5115     0\n",
      "Name: label, Length: 44898, dtype: int64\n"
     ]
    }
   ],
   "source": [
    "print(Y)"
   ]
  },
  {
   "cell_type": "code",
   "execution_count": 59,
   "metadata": {},
   "outputs": [],
   "source": [
    "#converting the textual data to numerical data\n",
    "vectorizer = TfidfVectorizer()\n",
    "vectorizer.fit(X)\n",
    "\n",
    "features =vectorizer.transform(X)"
   ]
  },
  {
   "cell_type": "code",
   "execution_count": 60,
   "metadata": {},
   "outputs": [
    {
     "name": "stdout",
     "output_type": "stream",
     "text": [
      "<class 'numpy.ndarray'>\n",
      "(44898,)\n",
      "<class 'numpy.ndarray'>\n",
      "(44898,)\n"
     ]
    }
   ],
   "source": [
    "print(type(X))\n",
    "print(X.shape)\n",
    "print(type(X))\n",
    "print(X.shape)"
   ]
  },
  {
   "cell_type": "code",
   "execution_count": 65,
   "metadata": {},
   "outputs": [],
   "source": [
    "X_train, X_test, Y_train, Y_test = train_test_split(features, Y, test_size = 0.2, stratify=Y, random_state=42)"
   ]
  },
  {
   "cell_type": "code",
   "execution_count": 66,
   "metadata": {},
   "outputs": [
    {
     "data": {
      "text/plain": [
       "(35918, 91011)"
      ]
     },
     "execution_count": 66,
     "metadata": {},
     "output_type": "execute_result"
    }
   ],
   "source": [
    "X_train.shape"
   ]
  },
  {
   "cell_type": "code",
   "execution_count": 67,
   "metadata": {},
   "outputs": [],
   "source": [
    "from sklearn.naive_bayes import MultinomialNB\n",
    "\n",
    "model = MultinomialNB()"
   ]
  },
  {
   "cell_type": "code",
   "execution_count": 68,
   "metadata": {},
   "outputs": [
    {
     "data": {
      "text/html": [
       "<style>#sk-container-id-1 {\n",
       "  /* Definition of color scheme common for light and dark mode */\n",
       "  --sklearn-color-text: black;\n",
       "  --sklearn-color-line: gray;\n",
       "  /* Definition of color scheme for unfitted estimators */\n",
       "  --sklearn-color-unfitted-level-0: #fff5e6;\n",
       "  --sklearn-color-unfitted-level-1: #f6e4d2;\n",
       "  --sklearn-color-unfitted-level-2: #ffe0b3;\n",
       "  --sklearn-color-unfitted-level-3: chocolate;\n",
       "  /* Definition of color scheme for fitted estimators */\n",
       "  --sklearn-color-fitted-level-0: #f0f8ff;\n",
       "  --sklearn-color-fitted-level-1: #d4ebff;\n",
       "  --sklearn-color-fitted-level-2: #b3dbfd;\n",
       "  --sklearn-color-fitted-level-3: cornflowerblue;\n",
       "\n",
       "  /* Specific color for light theme */\n",
       "  --sklearn-color-text-on-default-background: var(--sg-text-color, var(--theme-code-foreground, var(--jp-content-font-color1, black)));\n",
       "  --sklearn-color-background: var(--sg-background-color, var(--theme-background, var(--jp-layout-color0, white)));\n",
       "  --sklearn-color-border-box: var(--sg-text-color, var(--theme-code-foreground, var(--jp-content-font-color1, black)));\n",
       "  --sklearn-color-icon: #696969;\n",
       "\n",
       "  @media (prefers-color-scheme: dark) {\n",
       "    /* Redefinition of color scheme for dark theme */\n",
       "    --sklearn-color-text-on-default-background: var(--sg-text-color, var(--theme-code-foreground, var(--jp-content-font-color1, white)));\n",
       "    --sklearn-color-background: var(--sg-background-color, var(--theme-background, var(--jp-layout-color0, #111)));\n",
       "    --sklearn-color-border-box: var(--sg-text-color, var(--theme-code-foreground, var(--jp-content-font-color1, white)));\n",
       "    --sklearn-color-icon: #878787;\n",
       "  }\n",
       "}\n",
       "\n",
       "#sk-container-id-1 {\n",
       "  color: var(--sklearn-color-text);\n",
       "}\n",
       "\n",
       "#sk-container-id-1 pre {\n",
       "  padding: 0;\n",
       "}\n",
       "\n",
       "#sk-container-id-1 input.sk-hidden--visually {\n",
       "  border: 0;\n",
       "  clip: rect(1px 1px 1px 1px);\n",
       "  clip: rect(1px, 1px, 1px, 1px);\n",
       "  height: 1px;\n",
       "  margin: -1px;\n",
       "  overflow: hidden;\n",
       "  padding: 0;\n",
       "  position: absolute;\n",
       "  width: 1px;\n",
       "}\n",
       "\n",
       "#sk-container-id-1 div.sk-dashed-wrapped {\n",
       "  border: 1px dashed var(--sklearn-color-line);\n",
       "  margin: 0 0.4em 0.5em 0.4em;\n",
       "  box-sizing: border-box;\n",
       "  padding-bottom: 0.4em;\n",
       "  background-color: var(--sklearn-color-background);\n",
       "}\n",
       "\n",
       "#sk-container-id-1 div.sk-container {\n",
       "  /* jupyter's `normalize.less` sets `[hidden] { display: none; }`\n",
       "     but bootstrap.min.css set `[hidden] { display: none !important; }`\n",
       "     so we also need the `!important` here to be able to override the\n",
       "     default hidden behavior on the sphinx rendered scikit-learn.org.\n",
       "     See: https://github.com/scikit-learn/scikit-learn/issues/21755 */\n",
       "  display: inline-block !important;\n",
       "  position: relative;\n",
       "}\n",
       "\n",
       "#sk-container-id-1 div.sk-text-repr-fallback {\n",
       "  display: none;\n",
       "}\n",
       "\n",
       "div.sk-parallel-item,\n",
       "div.sk-serial,\n",
       "div.sk-item {\n",
       "  /* draw centered vertical line to link estimators */\n",
       "  background-image: linear-gradient(var(--sklearn-color-text-on-default-background), var(--sklearn-color-text-on-default-background));\n",
       "  background-size: 2px 100%;\n",
       "  background-repeat: no-repeat;\n",
       "  background-position: center center;\n",
       "}\n",
       "\n",
       "/* Parallel-specific style estimator block */\n",
       "\n",
       "#sk-container-id-1 div.sk-parallel-item::after {\n",
       "  content: \"\";\n",
       "  width: 100%;\n",
       "  border-bottom: 2px solid var(--sklearn-color-text-on-default-background);\n",
       "  flex-grow: 1;\n",
       "}\n",
       "\n",
       "#sk-container-id-1 div.sk-parallel {\n",
       "  display: flex;\n",
       "  align-items: stretch;\n",
       "  justify-content: center;\n",
       "  background-color: var(--sklearn-color-background);\n",
       "  position: relative;\n",
       "}\n",
       "\n",
       "#sk-container-id-1 div.sk-parallel-item {\n",
       "  display: flex;\n",
       "  flex-direction: column;\n",
       "}\n",
       "\n",
       "#sk-container-id-1 div.sk-parallel-item:first-child::after {\n",
       "  align-self: flex-end;\n",
       "  width: 50%;\n",
       "}\n",
       "\n",
       "#sk-container-id-1 div.sk-parallel-item:last-child::after {\n",
       "  align-self: flex-start;\n",
       "  width: 50%;\n",
       "}\n",
       "\n",
       "#sk-container-id-1 div.sk-parallel-item:only-child::after {\n",
       "  width: 0;\n",
       "}\n",
       "\n",
       "/* Serial-specific style estimator block */\n",
       "\n",
       "#sk-container-id-1 div.sk-serial {\n",
       "  display: flex;\n",
       "  flex-direction: column;\n",
       "  align-items: center;\n",
       "  background-color: var(--sklearn-color-background);\n",
       "  padding-right: 1em;\n",
       "  padding-left: 1em;\n",
       "}\n",
       "\n",
       "\n",
       "/* Toggleable style: style used for estimator/Pipeline/ColumnTransformer box that is\n",
       "clickable and can be expanded/collapsed.\n",
       "- Pipeline and ColumnTransformer use this feature and define the default style\n",
       "- Estimators will overwrite some part of the style using the `sk-estimator` class\n",
       "*/\n",
       "\n",
       "/* Pipeline and ColumnTransformer style (default) */\n",
       "\n",
       "#sk-container-id-1 div.sk-toggleable {\n",
       "  /* Default theme specific background. It is overwritten whether we have a\n",
       "  specific estimator or a Pipeline/ColumnTransformer */\n",
       "  background-color: var(--sklearn-color-background);\n",
       "}\n",
       "\n",
       "/* Toggleable label */\n",
       "#sk-container-id-1 label.sk-toggleable__label {\n",
       "  cursor: pointer;\n",
       "  display: block;\n",
       "  width: 100%;\n",
       "  margin-bottom: 0;\n",
       "  padding: 0.5em;\n",
       "  box-sizing: border-box;\n",
       "  text-align: center;\n",
       "}\n",
       "\n",
       "#sk-container-id-1 label.sk-toggleable__label-arrow:before {\n",
       "  /* Arrow on the left of the label */\n",
       "  content: \"▸\";\n",
       "  float: left;\n",
       "  margin-right: 0.25em;\n",
       "  color: var(--sklearn-color-icon);\n",
       "}\n",
       "\n",
       "#sk-container-id-1 label.sk-toggleable__label-arrow:hover:before {\n",
       "  color: var(--sklearn-color-text);\n",
       "}\n",
       "\n",
       "/* Toggleable content - dropdown */\n",
       "\n",
       "#sk-container-id-1 div.sk-toggleable__content {\n",
       "  max-height: 0;\n",
       "  max-width: 0;\n",
       "  overflow: hidden;\n",
       "  text-align: left;\n",
       "  /* unfitted */\n",
       "  background-color: var(--sklearn-color-unfitted-level-0);\n",
       "}\n",
       "\n",
       "#sk-container-id-1 div.sk-toggleable__content.fitted {\n",
       "  /* fitted */\n",
       "  background-color: var(--sklearn-color-fitted-level-0);\n",
       "}\n",
       "\n",
       "#sk-container-id-1 div.sk-toggleable__content pre {\n",
       "  margin: 0.2em;\n",
       "  border-radius: 0.25em;\n",
       "  color: var(--sklearn-color-text);\n",
       "  /* unfitted */\n",
       "  background-color: var(--sklearn-color-unfitted-level-0);\n",
       "}\n",
       "\n",
       "#sk-container-id-1 div.sk-toggleable__content.fitted pre {\n",
       "  /* unfitted */\n",
       "  background-color: var(--sklearn-color-fitted-level-0);\n",
       "}\n",
       "\n",
       "#sk-container-id-1 input.sk-toggleable__control:checked~div.sk-toggleable__content {\n",
       "  /* Expand drop-down */\n",
       "  max-height: 200px;\n",
       "  max-width: 100%;\n",
       "  overflow: auto;\n",
       "}\n",
       "\n",
       "#sk-container-id-1 input.sk-toggleable__control:checked~label.sk-toggleable__label-arrow:before {\n",
       "  content: \"▾\";\n",
       "}\n",
       "\n",
       "/* Pipeline/ColumnTransformer-specific style */\n",
       "\n",
       "#sk-container-id-1 div.sk-label input.sk-toggleable__control:checked~label.sk-toggleable__label {\n",
       "  color: var(--sklearn-color-text);\n",
       "  background-color: var(--sklearn-color-unfitted-level-2);\n",
       "}\n",
       "\n",
       "#sk-container-id-1 div.sk-label.fitted input.sk-toggleable__control:checked~label.sk-toggleable__label {\n",
       "  background-color: var(--sklearn-color-fitted-level-2);\n",
       "}\n",
       "\n",
       "/* Estimator-specific style */\n",
       "\n",
       "/* Colorize estimator box */\n",
       "#sk-container-id-1 div.sk-estimator input.sk-toggleable__control:checked~label.sk-toggleable__label {\n",
       "  /* unfitted */\n",
       "  background-color: var(--sklearn-color-unfitted-level-2);\n",
       "}\n",
       "\n",
       "#sk-container-id-1 div.sk-estimator.fitted input.sk-toggleable__control:checked~label.sk-toggleable__label {\n",
       "  /* fitted */\n",
       "  background-color: var(--sklearn-color-fitted-level-2);\n",
       "}\n",
       "\n",
       "#sk-container-id-1 div.sk-label label.sk-toggleable__label,\n",
       "#sk-container-id-1 div.sk-label label {\n",
       "  /* The background is the default theme color */\n",
       "  color: var(--sklearn-color-text-on-default-background);\n",
       "}\n",
       "\n",
       "/* On hover, darken the color of the background */\n",
       "#sk-container-id-1 div.sk-label:hover label.sk-toggleable__label {\n",
       "  color: var(--sklearn-color-text);\n",
       "  background-color: var(--sklearn-color-unfitted-level-2);\n",
       "}\n",
       "\n",
       "/* Label box, darken color on hover, fitted */\n",
       "#sk-container-id-1 div.sk-label.fitted:hover label.sk-toggleable__label.fitted {\n",
       "  color: var(--sklearn-color-text);\n",
       "  background-color: var(--sklearn-color-fitted-level-2);\n",
       "}\n",
       "\n",
       "/* Estimator label */\n",
       "\n",
       "#sk-container-id-1 div.sk-label label {\n",
       "  font-family: monospace;\n",
       "  font-weight: bold;\n",
       "  display: inline-block;\n",
       "  line-height: 1.2em;\n",
       "}\n",
       "\n",
       "#sk-container-id-1 div.sk-label-container {\n",
       "  text-align: center;\n",
       "}\n",
       "\n",
       "/* Estimator-specific */\n",
       "#sk-container-id-1 div.sk-estimator {\n",
       "  font-family: monospace;\n",
       "  border: 1px dotted var(--sklearn-color-border-box);\n",
       "  border-radius: 0.25em;\n",
       "  box-sizing: border-box;\n",
       "  margin-bottom: 0.5em;\n",
       "  /* unfitted */\n",
       "  background-color: var(--sklearn-color-unfitted-level-0);\n",
       "}\n",
       "\n",
       "#sk-container-id-1 div.sk-estimator.fitted {\n",
       "  /* fitted */\n",
       "  background-color: var(--sklearn-color-fitted-level-0);\n",
       "}\n",
       "\n",
       "/* on hover */\n",
       "#sk-container-id-1 div.sk-estimator:hover {\n",
       "  /* unfitted */\n",
       "  background-color: var(--sklearn-color-unfitted-level-2);\n",
       "}\n",
       "\n",
       "#sk-container-id-1 div.sk-estimator.fitted:hover {\n",
       "  /* fitted */\n",
       "  background-color: var(--sklearn-color-fitted-level-2);\n",
       "}\n",
       "\n",
       "/* Specification for estimator info (e.g. \"i\" and \"?\") */\n",
       "\n",
       "/* Common style for \"i\" and \"?\" */\n",
       "\n",
       ".sk-estimator-doc-link,\n",
       "a:link.sk-estimator-doc-link,\n",
       "a:visited.sk-estimator-doc-link {\n",
       "  float: right;\n",
       "  font-size: smaller;\n",
       "  line-height: 1em;\n",
       "  font-family: monospace;\n",
       "  background-color: var(--sklearn-color-background);\n",
       "  border-radius: 1em;\n",
       "  height: 1em;\n",
       "  width: 1em;\n",
       "  text-decoration: none !important;\n",
       "  margin-left: 1ex;\n",
       "  /* unfitted */\n",
       "  border: var(--sklearn-color-unfitted-level-1) 1pt solid;\n",
       "  color: var(--sklearn-color-unfitted-level-1);\n",
       "}\n",
       "\n",
       ".sk-estimator-doc-link.fitted,\n",
       "a:link.sk-estimator-doc-link.fitted,\n",
       "a:visited.sk-estimator-doc-link.fitted {\n",
       "  /* fitted */\n",
       "  border: var(--sklearn-color-fitted-level-1) 1pt solid;\n",
       "  color: var(--sklearn-color-fitted-level-1);\n",
       "}\n",
       "\n",
       "/* On hover */\n",
       "div.sk-estimator:hover .sk-estimator-doc-link:hover,\n",
       ".sk-estimator-doc-link:hover,\n",
       "div.sk-label-container:hover .sk-estimator-doc-link:hover,\n",
       ".sk-estimator-doc-link:hover {\n",
       "  /* unfitted */\n",
       "  background-color: var(--sklearn-color-unfitted-level-3);\n",
       "  color: var(--sklearn-color-background);\n",
       "  text-decoration: none;\n",
       "}\n",
       "\n",
       "div.sk-estimator.fitted:hover .sk-estimator-doc-link.fitted:hover,\n",
       ".sk-estimator-doc-link.fitted:hover,\n",
       "div.sk-label-container:hover .sk-estimator-doc-link.fitted:hover,\n",
       ".sk-estimator-doc-link.fitted:hover {\n",
       "  /* fitted */\n",
       "  background-color: var(--sklearn-color-fitted-level-3);\n",
       "  color: var(--sklearn-color-background);\n",
       "  text-decoration: none;\n",
       "}\n",
       "\n",
       "/* Span, style for the box shown on hovering the info icon */\n",
       ".sk-estimator-doc-link span {\n",
       "  display: none;\n",
       "  z-index: 9999;\n",
       "  position: relative;\n",
       "  font-weight: normal;\n",
       "  right: .2ex;\n",
       "  padding: .5ex;\n",
       "  margin: .5ex;\n",
       "  width: min-content;\n",
       "  min-width: 20ex;\n",
       "  max-width: 50ex;\n",
       "  color: var(--sklearn-color-text);\n",
       "  box-shadow: 2pt 2pt 4pt #999;\n",
       "  /* unfitted */\n",
       "  background: var(--sklearn-color-unfitted-level-0);\n",
       "  border: .5pt solid var(--sklearn-color-unfitted-level-3);\n",
       "}\n",
       "\n",
       ".sk-estimator-doc-link.fitted span {\n",
       "  /* fitted */\n",
       "  background: var(--sklearn-color-fitted-level-0);\n",
       "  border: var(--sklearn-color-fitted-level-3);\n",
       "}\n",
       "\n",
       ".sk-estimator-doc-link:hover span {\n",
       "  display: block;\n",
       "}\n",
       "\n",
       "/* \"?\"-specific style due to the `<a>` HTML tag */\n",
       "\n",
       "#sk-container-id-1 a.estimator_doc_link {\n",
       "  float: right;\n",
       "  font-size: 1rem;\n",
       "  line-height: 1em;\n",
       "  font-family: monospace;\n",
       "  background-color: var(--sklearn-color-background);\n",
       "  border-radius: 1rem;\n",
       "  height: 1rem;\n",
       "  width: 1rem;\n",
       "  text-decoration: none;\n",
       "  /* unfitted */\n",
       "  color: var(--sklearn-color-unfitted-level-1);\n",
       "  border: var(--sklearn-color-unfitted-level-1) 1pt solid;\n",
       "}\n",
       "\n",
       "#sk-container-id-1 a.estimator_doc_link.fitted {\n",
       "  /* fitted */\n",
       "  border: var(--sklearn-color-fitted-level-1) 1pt solid;\n",
       "  color: var(--sklearn-color-fitted-level-1);\n",
       "}\n",
       "\n",
       "/* On hover */\n",
       "#sk-container-id-1 a.estimator_doc_link:hover {\n",
       "  /* unfitted */\n",
       "  background-color: var(--sklearn-color-unfitted-level-3);\n",
       "  color: var(--sklearn-color-background);\n",
       "  text-decoration: none;\n",
       "}\n",
       "\n",
       "#sk-container-id-1 a.estimator_doc_link.fitted:hover {\n",
       "  /* fitted */\n",
       "  background-color: var(--sklearn-color-fitted-level-3);\n",
       "}\n",
       "</style><div id=\"sk-container-id-1\" class=\"sk-top-container\"><div class=\"sk-text-repr-fallback\"><pre>MultinomialNB()</pre><b>In a Jupyter environment, please rerun this cell to show the HTML representation or trust the notebook. <br />On GitHub, the HTML representation is unable to render, please try loading this page with nbviewer.org.</b></div><div class=\"sk-container\" hidden><div class=\"sk-item\"><div class=\"sk-estimator fitted sk-toggleable\"><input class=\"sk-toggleable__control sk-hidden--visually\" id=\"sk-estimator-id-1\" type=\"checkbox\" checked><label for=\"sk-estimator-id-1\" class=\"sk-toggleable__label fitted sk-toggleable__label-arrow fitted\">&nbsp;&nbsp;MultinomialNB<a class=\"sk-estimator-doc-link fitted\" rel=\"noreferrer\" target=\"_blank\" href=\"https://scikit-learn.org/1.4/modules/generated/sklearn.naive_bayes.MultinomialNB.html\">?<span>Documentation for MultinomialNB</span></a><span class=\"sk-estimator-doc-link fitted\">i<span>Fitted</span></span></label><div class=\"sk-toggleable__content fitted\"><pre>MultinomialNB()</pre></div> </div></div></div></div>"
      ],
      "text/plain": [
       "MultinomialNB()"
      ]
     },
     "execution_count": 68,
     "metadata": {},
     "output_type": "execute_result"
    }
   ],
   "source": [
    "# MultinomialNB()\n",
    "#Train the model using the training sets\n",
    "model.fit(X_train, Y_train)\n"
   ]
  },
  {
   "cell_type": "code",
   "execution_count": 69,
   "metadata": {},
   "outputs": [],
   "source": [
    "#Predict the response for test dataset\n",
    "y_pred = model.predict(X_test)\n"
   ]
  },
  {
   "cell_type": "code",
   "execution_count": 70,
   "metadata": {},
   "outputs": [],
   "source": [
    "#accuracy score on the training data\n",
    "X_train_prediction = model.predict(X_train)\n",
    "training_data_accuracy = accuracy_score(X_train_prediction, Y_train)"
   ]
  },
  {
   "cell_type": "code",
   "execution_count": 71,
   "metadata": {},
   "outputs": [
    {
     "name": "stdout",
     "output_type": "stream",
     "text": [
      "Accuracy score of the training data :  0.9469903669469347\n"
     ]
    }
   ],
   "source": [
    "print('Accuracy score of the training data : ', training_data_accuracy)"
   ]
  },
  {
   "cell_type": "code",
   "execution_count": 72,
   "metadata": {},
   "outputs": [],
   "source": [
    "X_test_prediction = model.predict(X_test)\n",
    "test_data_accuracy = accuracy_score(X_test_prediction, Y_test )"
   ]
  },
  {
   "cell_type": "code",
   "execution_count": 73,
   "metadata": {},
   "outputs": [
    {
     "name": "stdout",
     "output_type": "stream",
     "text": [
      "Accuracy score on test data =  0.9374164810690423\n"
     ]
    }
   ],
   "source": [
    "print('Accuracy score on test data = ', test_data_accuracy)"
   ]
  },
  {
   "cell_type": "code",
   "execution_count": 74,
   "metadata": {},
   "outputs": [
    {
     "name": "stdout",
     "output_type": "stream",
     "text": [
      "Combined Precision: 0.9421045988134809\n"
     ]
    }
   ],
   "source": [
    "from sklearn.metrics import precision_score\n",
    "\n",
    "# Assuming you have already made predictions on both training and testing data\n",
    "\n",
    "# Concatenate predictions and true labels\n",
    "y_pred_combined = np.concatenate([X_train_prediction, y_pred])\n",
    "Y_combined = np.concatenate([Y_train, Y_test])\n",
    "\n",
    "# Calculate precision on the combined dataset\n",
    "combined_precision = precision_score(Y_combined, y_pred_combined)\n",
    "print(\"Combined Precision:\", combined_precision)\n",
    "\n"
   ]
  },
  {
   "cell_type": "code",
   "execution_count": 77,
   "metadata": {},
   "outputs": [
    {
     "name": "stdout",
     "output_type": "stream",
     "text": [
      "Testing Precision: 0.9336970205623164\n"
     ]
    }
   ],
   "source": [
    "from sklearn.metrics import precision_score\n",
    "\n",
    "# Assuming you have already split your data into training and testing sets and trained your model\n",
    "\n",
    "# Make predictions on the testing data\n",
    "y_test_prediction = model.predict(X_test)\n",
    "\n",
    "# Evaluate precision on testing data\n",
    "test_precision = precision_score(Y_test, y_test_prediction)\n",
    "print(\"Testing Precision:\", test_precision)"
   ]
  },
  {
   "cell_type": "code",
   "execution_count": 78,
   "metadata": {},
   "outputs": [
    {
     "name": "stdout",
     "output_type": "stream",
     "text": [
      "Testing F1 score:  0.9406045233565842\n",
      "Testing recall:  0.9476149914821125\n"
     ]
    }
   ],
   "source": [
    "from sklearn.metrics import f1_score, recall_score\n",
    "\n",
    "# Assuming you have true labels 'y_true' and predicted labels 'y_pred'\n",
    "\n",
    "# Calculate F1 score\n",
    "f1 = f1_score(Y_test, y_test_prediction)\n",
    "print(\"Testing F1 score: \", f1)\n",
    "# Calculate recall\n",
    "recall = recall_score(Y_test, y_test_prediction)\n",
    "print(\"Testing recall: \", recall)"
   ]
  },
  {
   "cell_type": "code",
   "execution_count": 81,
   "metadata": {},
   "outputs": [
    {
     "name": "stdout",
     "output_type": "stream",
     "text": [
      "Average Accuracy: 0.9399750494286222\n"
     ]
    }
   ],
   "source": [
    "#performing cross validation\n",
    "from sklearn.model_selection import KFold\n",
    "from sklearn.model_selection import cross_val_score\n",
    "# Define k-fold cross-validation\n",
    "k_fold = KFold(n_splits=5, shuffle=True, random_state=42)\n",
    "\n",
    "# Perform cross-validation\n",
    "scores = cross_val_score(model, features, Y, cv=k_fold, scoring='accuracy')\n",
    "\n",
    "# Print average performance\n",
    "print(\"Average Accuracy:\", np.mean(scores))"
   ]
  },
  {
   "cell_type": "code",
   "execution_count": null,
   "metadata": {},
   "outputs": [],
   "source": []
  },
  {
   "cell_type": "code",
   "execution_count": 82,
   "metadata": {},
   "outputs": [
    {
     "name": "stdout",
     "output_type": "stream",
     "text": [
      "Average Accuracy: 0.9376586930375518\n"
     ]
    }
   ],
   "source": [
    "#performing cross validation\n",
    "from sklearn.model_selection import KFold\n",
    "from sklearn.model_selection import cross_val_score\n",
    "# Define k-fold cross-validation\n",
    "k_fold = KFold(n_splits=2, shuffle=True, random_state=42)\n",
    "\n",
    "# Perform cross-validation\n",
    "scores = cross_val_score(model, features, Y, cv=k_fold, scoring='accuracy')\n",
    "\n",
    "# Print average performance\n",
    "print(\"Average Accuracy:\", np.mean(scores))"
   ]
  },
  {
   "cell_type": "markdown",
   "metadata": {},
   "source": [
    "For new data file, retraining function (code below)"
   ]
  },
  {
   "cell_type": "code",
   "execution_count": null,
   "metadata": {},
   "outputs": [],
   "source": [
    "import pandas as pd\n",
    "import pickle\n",
    "\n",
    "def retrain_naive_bayes_from_csv(csv_path, text_column, label_column, model_path=\"naive_bayes_model.pkl\", vectorizer_path=\"tfidf_vectorizer.pkl\"):\n",
    "    \"\"\"\n",
    "    Retrains an existing Naïve Bayes model using new data from a CSV file.\n",
    "\n",
    "    Parameters:\n",
    "    - csv_path (str): Path to the CSV file containing new data.\n",
    "    - text_column (str): Name of the column containing text data.\n",
    "    - label_column (str): Name of the column containing labels.\n",
    "    - model_path (str): Path to the saved model file.\n",
    "    - vectorizer_path (str): Path to the saved TF-IDF vectorizer file.\n",
    "\n",
    "    Returns:\n",
    "    - Updated model\n",
    "    \"\"\"\n",
    "\n",
    "    # Load new data from CSV\n",
    "    df = pd.read_csv(csv_path)\n",
    "\n",
    "    # Ensure required columns exist\n",
    "    if text_column not in df.columns or label_column not in df.columns:\n",
    "        raise ValueError(f\"Columns '{text_column}' and '{label_column}' must exist in the CSV file.\")\n",
    "\n",
    "    # Extract text and labels\n",
    "    new_data = df[text_column].astype(str).tolist()  # Convert to string to avoid issues\n",
    "    new_labels = df[label_column].tolist()\n",
    "\n",
    "    # Load the existing model and vectorizer\n",
    "    with open(model_path, \"rb\") as model_file:\n",
    "        model = pickle.load(model_file)\n",
    "    with open(vectorizer_path, \"rb\") as vectorizer_file:\n",
    "        vectorizer = pickle.load(vectorizer_file)\n",
    "\n",
    "    # Transform new text data using the existing TF-IDF vectorizer\n",
    "    new_data_transformed = vectorizer.transform(new_data)\n",
    "\n",
    "    # Retrain the model (assuming binary classification: 0 or 1)\n",
    "    model.partial_fit(new_data_transformed, new_labels, classes=[0, 1])\n",
    "\n",
    "    # Save the updated model\n",
    "    with open(model_path, \"wb\") as model_file:\n",
    "        pickle.dump(model, model_file)\n",
    "\n",
    "    print(\"Naïve Bayes model retrained successfully with new CSV data.\")\n",
    "    return model\n"
   ]
  },
  {
   "cell_type": "code",
   "execution_count": null,
   "metadata": {},
   "outputs": [],
   "source": [
    "retrain_naive_bayes_from_csv(\"new_data.csv\", text_column=\"text\", label_column=\"label\")\n"
   ]
  }
 ],
 "metadata": {
  "kernelspec": {
   "display_name": "Python 3",
   "language": "python",
   "name": "python3"
  },
  "language_info": {
   "codemirror_mode": {
    "name": "ipython",
    "version": 3
   },
   "file_extension": ".py",
   "mimetype": "text/x-python",
   "name": "python",
   "nbconvert_exporter": "python",
   "pygments_lexer": "ipython3",
   "version": "3.11.2"
  }
 },
 "nbformat": 4,
 "nbformat_minor": 2
}
